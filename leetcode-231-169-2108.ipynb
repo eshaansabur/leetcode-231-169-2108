{
 "cells": [
  {
   "cell_type": "code",
   "execution_count": 3,
   "id": "a63639ed-edf6-4cf5-8a30-a613849b138b",
   "metadata": {},
   "outputs": [
    {
     "data": {
      "text/plain": [
       "True"
      ]
     },
     "execution_count": 3,
     "metadata": {},
     "output_type": "execute_result"
    }
   ],
   "source": [
    "n= 4\n",
    "def isPowerOfTwo(n):\n",
    "    for i in range(-128, 128):\n",
    "        num = 2 ** i\n",
    "        if num== n:\n",
    "            return True\n",
    "        \n",
    "    return False\n",
    "\n",
    "isPowerOfTwo(x)"
   ]
  },
  {
   "cell_type": "code",
   "execution_count": 9,
   "id": "f18c2f39-32d9-40af-80c6-afd15170924d",
   "metadata": {},
   "outputs": [
    {
     "data": {
      "text/plain": [
       "3"
      ]
     },
     "execution_count": 9,
     "metadata": {},
     "output_type": "execute_result"
    }
   ],
   "source": [
    "nums = [3,3,4]\n",
    "def majorityElement(nums):\n",
    "    dict= {}\n",
    "    for n in nums:\n",
    "        if n not in dict.keys():\n",
    "            dict[n]=1\n",
    "        else:\n",
    "            dict[n]+=1\n",
    "\n",
    "    return max(dict, key=dict.get)\n",
    "\n",
    "majorityElement(nums)"
   ]
  },
  {
   "cell_type": "code",
   "execution_count": 1,
   "id": "f104f76a-4fc4-42b7-bd8b-62fbcf82993d",
   "metadata": {},
   "outputs": [
    {
     "data": {
      "text/plain": [
       "'ada'"
      ]
     },
     "execution_count": 1,
     "metadata": {},
     "output_type": "execute_result"
    }
   ],
   "source": [
    "words = [\"abc\",\"car\",\"ada\",\"racecar\",\"cool\"]\n",
    "\n",
    "def firstPalindrome(words):\n",
    "    for word in words:\n",
    "        word_reverse= word[::-1]\n",
    "        if word == word_reverse:\n",
    "            return word\n",
    "    return \"\"\n",
    "\n",
    "firstPalindrome(words)"
   ]
  },
  {
   "cell_type": "code",
   "execution_count": null,
   "id": "b8394882-2a0c-4a3a-a711-d54c400c05a9",
   "metadata": {},
   "outputs": [],
   "source": []
  }
 ],
 "metadata": {
  "kernelspec": {
   "display_name": "Python 3 (ipykernel)",
   "language": "python",
   "name": "python3"
  },
  "language_info": {
   "codemirror_mode": {
    "name": "ipython",
    "version": 3
   },
   "file_extension": ".py",
   "mimetype": "text/x-python",
   "name": "python",
   "nbconvert_exporter": "python",
   "pygments_lexer": "ipython3",
   "version": "3.11.7"
  }
 },
 "nbformat": 4,
 "nbformat_minor": 5
}
